{
 "cells": [
  {
   "cell_type": "code",
   "execution_count": null,
   "metadata": {
    "colab": {
     "base_uri": "https://localhost:8080/"
    },
    "id": "EQWY7hLqrnRd",
    "outputId": "2ad0b434-94cf-412e-989a-5981366965e3"
   },
   "outputs": [],
   "source": [
    "from google.colab import drive\n",
    "drive.mount('/content/drive')\n",
    "\n",
    "BASE = \"/content/drive/MyDrive/A2A_prediction_system\"\n"
   ]
  },
  {
   "cell_type": "code",
   "execution_count": null,
   "metadata": {
    "colab": {
     "base_uri": "https://localhost:8080/"
    },
    "id": "a-9uurZFsEkb",
    "outputId": "3c7b064f-05af-4ff6-cc31-8b0da67f7e28"
   },
   "outputs": [],
   "source": [
    "!pip -q install fastapi \"uvicorn[standard]\" orjson requests \\\n",
    "                 langgraph yfinance numpy pandas scikit-learn ta matplotlib\n"
   ]
  },
  {
   "cell_type": "code",
   "execution_count": null,
   "metadata": {
    "colab": {
     "base_uri": "https://localhost:8080/"
    },
    "id": "vhfJdhyCsLBF",
    "outputId": "c407843e-5bdb-4ce8-d913-e80e38a35bd5"
   },
   "outputs": [],
   "source": [
    "import os, sys, pathlib, importlib, traceback\n",
    "\n",
    "# package markers\n",
    "pathlib.Path(f\"{BASE}/backend/__init__.py\").touch()\n",
    "pathlib.Path(f\"{BASE}/backend/a2a/__init__.py\").touch()\n",
    "\n",
    "# make project importable\n",
    "if BASE not in sys.path:\n",
    "    sys.path.insert(0, BASE)\n",
    "\n",
    "\n",
    "os.environ[\"A2A_ROOT\"] = BASE\n",
    "os.environ[\"PYTHONPATH\"] = f\"{BASE}:{BASE}/backend\"\n",
    "\n",
    "# quick checks\n",
    "print(\"Has app.py?    \", os.path.exists(f\"{BASE}/backend/app.py\"))\n",
    "print(\"Has orchestrator?\", os.path.exists(f\"{BASE}/backend/a2a/orchestrator.py\"))\n",
    "print(\"Has index.html?\", os.path.exists(f\"{BASE}/frontend/index.html\"))\n",
    "\n",
    "# import test: should print OK\n",
    "try:\n",
    "    importlib.import_module(\"backend.app\")\n",
    "    print(\"backend.app import OK\")\n",
    "except Exception:\n",
    "    print(\"Import failed:\\n\", traceback.format_exc())\n"
   ]
  },
  {
   "cell_type": "code",
   "execution_count": null,
   "metadata": {
    "colab": {
     "base_uri": "https://localhost:8080/"
    },
    "id": "6lDWeibBsSZ0",
    "outputId": "884d4699-0d0f-485a-9c0c-78520e34d714"
   },
   "outputs": [],
   "source": [
    "import time, requests\n",
    "\n",
    "# stop any old server\n",
    "!pkill -f \"uvicorn .* backend.app:app\" >/dev/null 2>&1 || true\n",
    "\n",
    "# start fresh\n",
    "%cd $BASE\n",
    "!nohup python -m uvicorn backend.app:app --host 0.0.0.0 --port 8000 --loop asyncio --http h11 > /tmp/uvicorn.log 2>&1 &\n",
    "\n",
    "# wait\n",
    "ok = False\n",
    "for _ in range(20):\n",
    "    time.sleep(0.5)\n",
    "    try:\n",
    "        print(\"Health:\", requests.get(\"http://127.0.0.1:8000/health\", timeout=2).json())\n",
    "        ok = True\n",
    "        break\n",
    "    except: pass\n",
    "\n",
    "if not ok:\n",
    "    print(\"Server not ready. Recent logs:\")\n",
    "    !tail -n 120 /tmp/uvicorn.log\n",
    "else:\n",
    "    print(\"UI status:\", requests.get(\"http://127.0.0.1:8000/ui/index.html\", timeout=5).status_code)\n"
   ]
  },
  {
   "cell_type": "code",
   "execution_count": null,
   "metadata": {
    "colab": {
     "base_uri": "https://localhost:8080/",
     "height": 138
    },
    "id": "39cchq2fsZiK",
    "outputId": "8df588f2-f6db-4650-da86-0ba406be8945"
   },
   "outputs": [],
   "source": [
    "# start a quick tunnel (prints a trycloudflare URL)\n",
    "!curl -L https://github.com/cloudflare/cloudflared/releases/latest/download/cloudflared-linux-amd64 -o /usr/local/bin/cloudflared\n",
    "!chmod +x /usr/local/bin/cloudflared\n",
    "\n",
    "import subprocess, re, time\n",
    "proc = subprocess.Popen(\n",
    "    [\"cloudflared\",\"tunnel\",\"--url\",\"http://localhost:8000\",\"--no-autoupdate\"],\n",
    "    stdout=subprocess.PIPE, stderr=subprocess.STDOUT, text=True\n",
    ")\n",
    "BASE_PUBLIC = None\n",
    "deadline = time.time() + 60\n",
    "while time.time() < deadline:\n",
    "    line = proc.stdout.readline()\n",
    "    if not line: time.sleep(0.1); continue\n",
    "    m = re.search(r\"https://[\\w\\.-]*trycloudflare\\.com\", line)\n",
    "    if m: BASE_PUBLIC = m.group(0); break\n",
    "\n",
    "print(\"Public URL:\", BASE_PUBLIC)\n",
    "\n",
    "# open a tab\n",
    "from google.colab import output\n",
    "if BASE_PUBLIC:\n",
    "    output.eval_js(f'window.open(\"{BASE_PUBLIC}/ui/index.html\", \"_blank\")')\n",
    "    print(\"If the tab didn’t open, click:\", f\"{BASE_PUBLIC}/ui/index.html\")\n"
   ]
  },
  {
   "cell_type": "code",
   "execution_count": null,
   "metadata": {
    "colab": {
     "base_uri": "https://localhost:8080/",
     "height": 1000,
     "referenced_widgets": [
      "3235528c72ef4138b4868a50f8f0938c",
      "29edde25175747dcb742e4dcba5fe169",
      "1c5d79ddd6f7427ab1dd9ebcd22d009b",
      "2cec7cd3718c41118f496b2486259b04",
      "344c9d1ff597479db3e8255601fb1dd9",
      "3c18916f40964d32b3f778afaebf35c5",
      "3442a00b9f004faca6172229565765c0",
      "56cba6ab39064d57a84e51329f22f7e1",
      "80a6b27c4b2c4babbddf524ab6157491",
      "4b2cc2e4be7444239a34b4d609c06220",
      "11c5b0c0e4c4493eac0be059fa20b5ab"
     ]
    },
    "id": "v7jRBQiYwINh",
    "outputId": "ff6f0f58-8460-49eb-d54a-a5ee250d8c27"
   },
   "outputs": [],
   "source": [
    "# Colab cell\n",
    "from backend.a2a.orchestrator import run_orchestrator\n",
    "\n",
    "cfg = {\n",
    "  \"user_request\": \"Analyze AAPL last 5 years; forecast 3 days; include evaluation, IG and SHAP, risk, optimization, and HTML report.\",\n",
    "  \"tickers\": [\"AAPL\"],\n",
    "  \"report_out_name\": \"llm_report.html\",\n",
    "  \"xai_args\": {\n",
    "      \"skip_shap\": False,\n",
    "\n",
    "      \"k_last\": 60, \"bg_cap\": 48,\n",
    "      \"shap_backend_order\": [\"gradient\",\"deep\"],\n",
    "      \"kernel_nsamples\": 80\n",
    "  }\n",
    "}\n",
    "\n",
    "res = run_orchestrator(cfg)\n",
    "print(\"Run base:\", res[\"run_base\"])\n",
    "print(\"Report path:\", res[\"report_path\"])\n",
    "\n"
   ]
  },
  {
   "cell_type": "code",
   "execution_count": null,
   "metadata": {
    "colab": {
     "base_uri": "https://localhost:8080/",
     "height": 1000
    },
    "id": "wPqBM0Gv4Uhn",
    "outputId": "896750f8-7785-47e0-c22b-854d44ad30f0"
   },
   "outputs": [],
   "source": [
    "from IPython.display import HTML\n",
    
    "html = open(res[\"report_path\"], \"r\", encoding=\"utf-8\").read()\n",
    "HTML(html)\n"
   ]
  }
 ],
 "metadata": {
  "accelerator": "GPU",
  "colab": {
   "gpuType": "T4",
   "provenance": []
  },
  "kernelspec": {
   "display_name": "Python 3",
   "name": "python3"
  },
  "language_info": {
   "name": "python"
  }
 },
 "nbformat": 4,
 "nbformat_minor": 0
}





            f.write(f"{k}: {v}\n")

print(f"Run manifest saved to {save_path}")

